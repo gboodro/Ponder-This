{
 "cells": [
  {
   "attachments": {},
   "cell_type": "markdown",
   "metadata": {},
   "source": [
    "<h3>August 2022 - Challenge</h3>\n",
    "<p><b> Safety dance</b></p>\n",
    "<p>A dance show consists of four dancers, designated A, B, C, and D, who dance on a stage for <i>n</i> units of time. However, due to safety concerns, they cannot all dance together; either a single dancer performs in the middle section, or two dancers dance on the right and left parts of the stage, respectively.</p>\n",
    "<p>When on the sides of the stage, each dancer can dance for 1, 2, or 3 units of time before being replaced by a dancer currently not on the stage. A dancer in the middle section must be replaced in 1 unit of time, either by another dancer in the middle or two others in the side sections. Dancers cannot switch places on stage directly from one unit of time to the next.</p>\n",
    "<p>As a last rule, if two dancers need to be replaced at the same time, they must be replaced by a single dancer in the middle.</p>\n",
    "<p>Here’s an example of a dance arrangement that takes 8 units of time in total. The top row represents the dancer on the right side of the stage and the bottom row the dancer on the left side of the stage in any given column representing a unit of time, unless those values are identical, which indicates a dancer in the middle of the stage:</p>\n",
    "\n",
    "AABDACCC \n",
    "<br>\n",
    "CCCDABBA \n",
    "<br>\n",
    "<p>The following arrangement is illegal because B,C start together after A,D finish; A dances on the left side and suddenly switches to the middle; and B,D switch sides.</p>\n",
    "AABBBADB \n",
    "<br>\n",
    "BDCCAABD\n",
    "<br>\n",
    "<p> There are 16 ways to perform a <i>n=1</i> dance, 120 ways to perform an <i>n=2</i> dance, and 17,342,172 ways to perform an <i>n=8</i> dance. Since numbers grow rapidly, we compute them modulo <i>N=3141592653</i>. For <i>n=128</i>, the number of ways modulo <i>N</i> is 2,484,449,895.</p>\n",
    "<p><b>Your goal:</b> Compute the number of ways for <i>n=2<sup>24</sup>=16,777,216</i> modulo <i>N=3141592653</i></p>\n",
    "\n",
    "<p><b>A Bonus</b> \"*\" will be given for computing the number of ways for <i>n=2<sup>256</sup></i> modulo <i>N=3141592653</i></p>"
   ]
  },
  {
   "attachments": {},
   "cell_type": "markdown",
   "metadata": {},
   "source": [
    "<h3>Solution:</h3>"
   ]
  },
  {
   "cell_type": "code",
   "execution_count": 6,
   "metadata": {},
   "outputs": [
    {
     "name": "stdout",
     "output_type": "stream",
     "text": [
      "2524614399\n"
     ]
    }
   ],
   "source": [
    "let\n",
    "    N = 2^24\n",
    "    M = UInt64(3141592653)\n",
    "    (d,e,f,g,h,i,j,k,l,m) = (UInt64(1),UInt64(1),UInt64(1),UInt64(1),UInt64(1),UInt64(1),UInt64(1),UInt64(1),UInt64(1),UInt64(1))\n",
    "    for _ in 1:N-1\n",
    "        (d,e,f,g,h,i,j,k,l,m) = \n",
    "            (\n",
    "                (3*d+6*e) % M\n",
    "                ,(2*d+2*h+2*f+i) % M\n",
    "                ,(2*d+2*h+2*g+j) % M\n",
    "                ,(2*d+2*h) % M\n",
    "                ,(2*d+2*k+2*f+l) % M\n",
    "                ,(2*d+2*k+2*g+m) % M\n",
    "                ,(2*d+2*k) % M\n",
    "                ,(2*d+2*f) % M\n",
    "                ,(2*d+2*g) % M\n",
    "                ,(2*d) % M\n",
    "            )\n",
    "    end\n",
    "    println((4*d+12*e)%M)\n",
    "end"
   ]
  },
  {
   "attachments": {},
   "cell_type": "markdown",
   "metadata": {},
   "source": [
    "<h3>Solution for Bonus:</h3>"
   ]
  },
  {
   "cell_type": "code",
   "execution_count": 7,
   "metadata": {},
   "outputs": [
    {
     "name": "stdout",
     "output_type": "stream",
     "text": [
      "920321499\n"
     ]
    }
   ],
   "source": [
    "let\n",
    "    M = big(3141592653)\n",
    "    b = [1 1 1 1 1 1 1 1 1 1]\n",
    "    A = [\n",
    "            big(3)   6   0   0   0   0   0   0   0   0\n",
    "            2   0   2   0   2   1   0   0   0   0\n",
    "            2   0   0   2   2   0   1   0   0   0\n",
    "            2   0   0   0   2   0   0   0   0   0\n",
    "            2   0   2   0   0   0   0   2   1   0\n",
    "            2   0   0   2   0   0   0   2   0   1\n",
    "            2   0   0   0   0   0   0   2   0   0\n",
    "            2   0   2   0   0   0   0   0   0   0\n",
    "            2   0   0   2   0   0   0   0   0   0\n",
    "            2   0   0   0   0   0   0   0   0   0\n",
    "        ]\n",
    "    D = [\n",
    "            big(0) 0 0 0 0 0 0 0 0 invmod(2,M)\n",
    "            invmod(2,M)//3 0 0 0 0 0 0 0 0 M-invmod(4,M)\n",
    "            0 0 0 0 0 0 0 invmod(2,M) 0 M-invmod(2,M)\n",
    "            0 0 0 0 0 0 0 0 invmod(2,M) M-invmod(2,M)\n",
    "            0 0 0 invmod(2,M) 0 0 0 0 0 M-invmod(2,M)\n",
    "            0 1 0 M-1 0 0 0 M-1 0 1\n",
    "            0 0 1 M-1 0 0 0 0 M-1 1\n",
    "            0 0 0 0 0 0 invmod(2,M) 0 0 M-invmod(2,M)\n",
    "            0 0 0 0 1 0 M-1 M-1 0 1\n",
    "            0 0 0 0 0 1 M-1 0 M-1 1\n",
    "        ]\n",
    "    for _ in 1:2^8\n",
    "        A = A^2\n",
    "        A = A .% M\n",
    "    end\n",
    "    A = A .% M\n",
    "    C = A*transpose(b)\n",
    "    C = D*C\n",
    "    println(numerator((4*C[1]+12*C[2])%M))\n",
    "end"
   ]
  }
 ],
 "metadata": {
  "kernelspec": {
   "display_name": "Julia 1.7.2",
   "language": "julia",
   "name": "julia-1.7"
  },
  "language_info": {
   "file_extension": ".jl",
   "mimetype": "application/julia",
   "name": "julia",
   "version": "1.7.2"
  },
  "orig_nbformat": 4
 },
 "nbformat": 4,
 "nbformat_minor": 2
}
